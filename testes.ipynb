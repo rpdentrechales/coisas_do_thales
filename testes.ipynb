{
 "cells": [
  {
   "cell_type": "code",
   "execution_count": 1,
   "id": "10c9e2d4",
   "metadata": {},
   "outputs": [
    {
     "name": "stderr",
     "output_type": "stream",
     "text": [
      "2025-07-21 17:09:43.590 WARNING streamlit.runtime.scriptrunner_utils.script_run_context: Thread 'MainThread': missing ScriptRunContext! This warning can be ignored when running in bare mode.\n",
      "2025-07-21 17:09:43.956 \n",
      "  \u001b[33m\u001b[1mWarning:\u001b[0m to view this Streamlit app on a browser, run it with the following\n",
      "  command:\n",
      "\n",
      "    streamlit run c:\\Users\\ciros\\github\\coisas_do_thales\\venv\\Lib\\site-packages\\ipykernel_launcher.py [ARGUMENTS]\n",
      "2025-07-21 17:09:43.957 Thread 'MainThread': missing ScriptRunContext! This warning can be ignored when running in bare mode.\n",
      "2025-07-21 17:09:43.957 Thread 'MainThread': missing ScriptRunContext! This warning can be ignored when running in bare mode.\n",
      "2025-07-21 17:09:43.957 Thread 'MainThread': missing ScriptRunContext! This warning can be ignored when running in bare mode.\n",
      "2025-07-21 17:09:44.363 Thread 'MainThread': missing ScriptRunContext! This warning can be ignored when running in bare mode.\n",
      "2025-07-21 17:09:44.363 Thread 'MainThread': missing ScriptRunContext! This warning can be ignored when running in bare mode.\n",
      "2025-07-21 17:09:44.363 Thread 'MainThread': missing ScriptRunContext! This warning can be ignored when running in bare mode.\n",
      "2025-07-21 17:09:44.364 No runtime found, using MemoryCacheStorageManager\n",
      "2025-07-21 17:09:44.365 No runtime found, using MemoryCacheStorageManager\n",
      "2025-07-21 17:09:44.366 Thread 'MainThread': missing ScriptRunContext! This warning can be ignored when running in bare mode.\n",
      "2025-07-21 17:09:44.366 Thread 'MainThread': missing ScriptRunContext! This warning can be ignored when running in bare mode.\n",
      "2025-07-21 17:09:44.367 Thread 'MainThread': missing ScriptRunContext! This warning can be ignored when running in bare mode.\n",
      "2025-07-21 17:09:44.367 Thread 'MainThread': missing ScriptRunContext! This warning can be ignored when running in bare mode.\n",
      "2025-07-21 17:09:44.879 Thread 'Thread-4': missing ScriptRunContext! This warning can be ignored when running in bare mode.\n",
      "2025-07-21 17:09:44.881 Thread 'Thread-4': missing ScriptRunContext! This warning can be ignored when running in bare mode.\n",
      "2025-07-21 17:09:44.881 Thread 'Thread-4': missing ScriptRunContext! This warning can be ignored when running in bare mode.\n",
      "2025-07-21 17:09:45.633 Thread 'MainThread': missing ScriptRunContext! This warning can be ignored when running in bare mode.\n",
      "2025-07-21 17:09:45.634 Thread 'MainThread': missing ScriptRunContext! This warning can be ignored when running in bare mode.\n",
      "2025-07-21 17:09:45.634 Thread 'MainThread': missing ScriptRunContext! This warning can be ignored when running in bare mode.\n"
     ]
    },
    {
     "data": {
      "text/html": [
       "<div>\n",
       "<style scoped>\n",
       "    .dataframe tbody tr th:only-of-type {\n",
       "        vertical-align: middle;\n",
       "    }\n",
       "\n",
       "    .dataframe tbody tr th {\n",
       "        vertical-align: top;\n",
       "    }\n",
       "\n",
       "    .dataframe thead th {\n",
       "        text-align: right;\n",
       "    }\n",
       "</style>\n",
       "<table border=\"1\" class=\"dataframe\">\n",
       "  <thead>\n",
       "    <tr style=\"text-align: right;\">\n",
       "      <th></th>\n",
       "      <th>Data</th>\n",
       "      <th>ID_Cliente</th>\n",
       "      <th>Quantidade</th>\n",
       "      <th>Produto</th>\n",
       "      <th>Injetora</th>\n",
       "    </tr>\n",
       "  </thead>\n",
       "  <tbody>\n",
       "    <tr>\n",
       "      <th>0</th>\n",
       "      <td>7/21/2025</td>\n",
       "      <td>555555.0</td>\n",
       "      <td>45.0</td>\n",
       "      <td>BOTOX - ALLERGAN</td>\n",
       "      <td>Tassia Ferreira Ribeiro</td>\n",
       "    </tr>\n",
       "    <tr>\n",
       "      <th>1</th>\n",
       "      <td>7/21/2025</td>\n",
       "      <td>555555.0</td>\n",
       "      <td>1.0</td>\n",
       "      <td>DERMAROLLER</td>\n",
       "      <td>Tassia Ferreira Ribeiro</td>\n",
       "    </tr>\n",
       "    <tr>\n",
       "      <th>2</th>\n",
       "      <td>7/21/2025</td>\n",
       "      <td>555555.0</td>\n",
       "      <td>2.0</td>\n",
       "      <td>ENZIMA MELASMA</td>\n",
       "      <td>Tassia Ferreira Ribeiro</td>\n",
       "    </tr>\n",
       "  </tbody>\n",
       "</table>\n",
       "</div>"
      ],
      "text/plain": [
       "        Data  ID_Cliente  Quantidade           Produto  \\\n",
       "0  7/21/2025    555555.0        45.0  BOTOX - ALLERGAN   \n",
       "1  7/21/2025    555555.0         1.0       DERMAROLLER   \n",
       "2  7/21/2025    555555.0         2.0    ENZIMA MELASMA   \n",
       "\n",
       "                  Injetora  \n",
       "0  Tassia Ferreira Ribeiro  \n",
       "1  Tassia Ferreira Ribeiro  \n",
       "2  Tassia Ferreira Ribeiro  "
      ]
     },
     "execution_count": 1,
     "metadata": {},
     "output_type": "execute_result"
    }
   ],
   "source": [
    "import streamlit as st\n",
    "import pandas as pd\n",
    "from streamlit_gsheets import GSheetsConnection\n",
    "\n",
    "def load_dataframe(worksheet):\n",
    "\n",
    "  conn = st.connection(\"gsheets\", type=GSheetsConnection)\n",
    "  df = conn.read(worksheet=worksheet)\n",
    "\n",
    "  return df\n",
    "\n",
    "def update_sheet(worksheet, df):\n",
    "    conn = st.connection(\"gsheets\", type=GSheetsConnection)\n",
    "    conn.update(data=df,worksheet=worksheet)\n",
    "    return df\n",
    "\n",
    "load_dataframe(\"Aux - Baixas Compiladas\")"
   ]
  }
 ],
 "metadata": {
  "kernelspec": {
   "display_name": "venv",
   "language": "python",
   "name": "python3"
  },
  "language_info": {
   "codemirror_mode": {
    "name": "ipython",
    "version": 3
   },
   "file_extension": ".py",
   "mimetype": "text/x-python",
   "name": "python",
   "nbconvert_exporter": "python",
   "pygments_lexer": "ipython3",
   "version": "3.11.9"
  }
 },
 "nbformat": 4,
 "nbformat_minor": 5
}
